{
  "nbformat": 4,
  "nbformat_minor": 0,
  "metadata": {
    "colab": {
      "name": "jason_to_csv.ipynb",
      "version": "0.3.2",
      "provenance": [],
      "include_colab_link": true
    },
    "kernelspec": {
      "name": "python3",
      "display_name": "Python 3"
    },
    "accelerator": "GPU"
  },
  "cells": [
    {
      "cell_type": "markdown",
      "metadata": {
        "id": "view-in-github",
        "colab_type": "text"
      },
      "source": [
        "<a href=\"https://colab.research.google.com/github/zhanlliu/Disaster_sentiment/blob/master/jason_to_csv.ipynb\" target=\"_parent\"><img src=\"https://colab.research.google.com/assets/colab-badge.svg\" alt=\"Open In Colab\"/></a>"
      ]
    },
    {
      "metadata": {
        "id": "Jc5ZQVFfTSTk",
        "colab_type": "code",
        "colab": {}
      },
      "cell_type": "code",
      "source": [
        ""
      ],
      "execution_count": 0,
      "outputs": []
    },
    {
      "metadata": {
        "id": "Xg1qX94WTdG4",
        "colab_type": "code",
        "colab": {}
      },
      "cell_type": "code",
      "source": [
        "import json\n",
        "from pprint import pprint\n",
        "with open('test_twurl_recent.json') as f:\n",
        "    data = json.load(f)\n",
        "\n",
        "pprint(data)"
      ],
      "execution_count": 0,
      "outputs": []
    },
    {
      "metadata": {
        "id": "5aqfWNlSTnp8",
        "colab_type": "code",
        "colab": {}
      },
      "cell_type": "code",
      "source": [
        "twitter_id = []\n",
        "text = []\n",
        "hashtage = []\n",
        "user_id = []\n",
        "retweet_count = []\n",
        "favorite_count = []\n",
        "coordinates = []\n",
        "\n",
        "user_id = []\n",
        "user_name = []\n",
        "user_loc = []\n",
        "followers_count =[]\n",
        "friends_count =[]\n",
        "verified = []\n",
        "\n",
        "for i in range(len(data['statuses'])):\n",
        "  text.append(data['statuses'][i]['text'])\n",
        "  twitter_id.append(data['statuses'][i]['id'])\n",
        "  hashtage.append(data['statuses'][i]['entities']['hashtags'])\n",
        "  user_id.append(data['statuses'][i]['user']['id'])\n",
        "  retweet_count.append(data['statuses'][i]['retweet_count'])\n",
        "  favorite_count.append(data['statuses'][i]['favorite_count'])\n",
        "  coordinates.append(data['statuses'][i]['coordinates'])\n",
        "  \n",
        "  user_name.append(data['statuses'][i]['user']['name'])\n",
        "  user_loc.append((data['statuses'][i]['user']['location']))\n",
        "  followers_count.append((data['statuses'][i]['user']['followers_count']))\n",
        "  friends_count.append((data['statuses'][i]['user']['friends_count']))\n",
        "  verified.append((data['statuses'][i]['user']['verified']))\n",
        "  \n",
        "  \n",
        "# twitter_feature = pd.DataFrame(\n",
        "#     {'twitter_id': id,\n",
        "#      'text': text,\n",
        "#      'hashtage': hashtage,\n",
        "#      'user_id': user_id,\n",
        "#      'retweet_count':retweet_count,\n",
        "#      'favorite_count':favorite_count,\n",
        "#      'coordinates': coordinates\n",
        "#     })  \n",
        "\n",
        "import numpy as np\n",
        "data_df = pd.DataFrame(np.column_stack([twitter_id, text, hashtage, user_id, \n",
        "                                        retweet_count, favorite_count, coordinates,\n",
        "                                        user_name, user_loc, followers_count,\n",
        "                                        friends_count, verified]), \n",
        "                               columns=['twitter_id', 'text', 'hashtage', 'user_id', \n",
        "                                        'retweet_count', 'favorite_count', 'coordinates',\n",
        "                                        'user_name', 'user location', \"followers\",\n",
        "                                        'friends', 'verified'])"
      ],
      "execution_count": 0,
      "outputs": []
    },
    {
      "metadata": {
        "id": "B6ugo68IT4QO",
        "colab_type": "code",
        "colab": {}
      },
      "cell_type": "code",
      "source": [
        "import csv\n",
        "data_df.to_csv('test_twurl_recent.csv')"
      ],
      "execution_count": 0,
      "outputs": []
    },
    {
      "metadata": {
        "id": "XrT2SWgjT8Xt",
        "colab_type": "code",
        "colab": {}
      },
      "cell_type": "code",
      "source": [
        ""
      ],
      "execution_count": 0,
      "outputs": []
    }
  ]
}