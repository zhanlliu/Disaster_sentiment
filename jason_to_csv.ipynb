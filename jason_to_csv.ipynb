{
  "nbformat": 4,
  "nbformat_minor": 0,
  "metadata": {
    "colab": {
      "name": "jason_to_csv.ipynb",
      "version": "0.3.2",
      "provenance": [],
      "include_colab_link": true
    },
    "kernelspec": {
      "name": "python3",
      "display_name": "Python 3"
    },
    "accelerator": "GPU"
  },
  "cells": [
    {
      "cell_type": "markdown",
      "metadata": {
        "id": "view-in-github",
        "colab_type": "text"
      },
      "source": [
        "<a href=\"https://colab.research.google.com/github/zhanlliu/Disaster_sentiment/blob/master/jason_to_csv.ipynb\" target=\"_parent\"><img src=\"https://colab.research.google.com/assets/colab-badge.svg\" alt=\"Open In Colab\"/></a>"
      ]
    },
    {
      "metadata": {
        "id": "Jc5ZQVFfTSTk",
        "colab_type": "code",
        "colab": {
          "base_uri": "https://localhost:8080/",
          "height": 122
        },
        "outputId": "493f375d-ee5c-4fea-9ae3-4b3a912f28c1"
      },
      "cell_type": "code",
      "source": [
        "import pandas as pd\n",
        "import os\n",
        "from google.colab import drive\n",
        "drive.mount('/content/drive/')\n",
        "os.getcwd()\n",
        "os.chdir('/content/drive/My Drive/sentiment')"
      ],
      "execution_count": 1,
      "outputs": [
        {
          "output_type": "stream",
          "text": [
            "Go to this URL in a browser: https://accounts.google.com/o/oauth2/auth?client_id=947318989803-6bn6qk8qdgf4n4g3pfee6491hc0brc4i.apps.googleusercontent.com&redirect_uri=urn%3Aietf%3Awg%3Aoauth%3A2.0%3Aoob&scope=email%20https%3A%2F%2Fwww.googleapis.com%2Fauth%2Fdocs.test%20https%3A%2F%2Fwww.googleapis.com%2Fauth%2Fdrive%20https%3A%2F%2Fwww.googleapis.com%2Fauth%2Fdrive.photos.readonly%20https%3A%2F%2Fwww.googleapis.com%2Fauth%2Fpeopleapi.readonly&response_type=code\n",
            "\n",
            "Enter your authorization code:\n",
            "··········\n",
            "Mounted at /content/drive/\n"
          ],
          "name": "stdout"
        }
      ]
    },
    {
      "metadata": {
        "id": "Xg1qX94WTdG4",
        "colab_type": "code",
        "colab": {}
      },
      "cell_type": "code",
      "source": [
        "import json\n",
        "from pprint import pprint\n",
        "with open('test_twurl_recent.json') as f:\n",
        "    data = json.load(f)\n",
        "\n",
        "pprint(data)"
      ],
      "execution_count": 0,
      "outputs": []
    },
    {
      "metadata": {
        "id": "5aqfWNlSTnp8",
        "colab_type": "code",
        "colab": {}
      },
      "cell_type": "code",
      "source": [
        "twitter_id = []\n",
        "text = []\n",
        "hashtage = []\n",
        "user_id = []\n",
        "retweet_count = []\n",
        "favorite_count = []\n",
        "coordinates = []\n",
        "time = []\n",
        "\n",
        "user_id = []\n",
        "user_name = []\n",
        "user_loc = []\n",
        "followers_count =[]\n",
        "friends_count =[]\n",
        "verified = []\n",
        "\n",
        "for i in range(len(data['statuses'])):\n",
        "  text.append(data['statuses'][i]['text'])\n",
        "  twitter_id.append(data['statuses'][i]['id'])\n",
        "  hashtage.append(data['statuses'][i]['entities']['hashtags'])\n",
        "  user_id.append(data['statuses'][i]['user']['id'])\n",
        "  retweet_count.append(data['statuses'][i]['retweet_count'])\n",
        "  favorite_count.append(data['statuses'][i]['favorite_count'])\n",
        "  coordinates.append(data['statuses'][i]['coordinates'])\n",
        "  time.append(data['statuses'][i]['created_at'])\n",
        "  \n",
        "  user_name.append(data['statuses'][i]['user']['name'])\n",
        "  user_loc.append((data['statuses'][i]['user']['location']))\n",
        "  followers_count.append((data['statuses'][i]['user']['followers_count']))\n",
        "  friends_count.append((data['statuses'][i]['user']['friends_count']))\n",
        "  verified.append((data['statuses'][i]['user']['verified']))\n",
        "  \n",
        "  \n",
        "# twitter_feature = pd.DataFrame(\n",
        "#     {'twitter_id': id,\n",
        "#      'text': text,\n",
        "#      'hashtage': hashtage,\n",
        "#      'user_id': user_id,\n",
        "#      'retweet_count':retweet_count,\n",
        "#      'favorite_count':favorite_count,\n",
        "#      'coordinates': coordinates\n",
        "#     })  \n",
        "\n",
        "import numpy as np\n",
        "data_df = pd.DataFrame(np.column_stack([twitter_id, text, hashtage, user_id, \n",
        "                                        retweet_count, favorite_count, coordinates,\n",
        "                                        user_name, user_loc, followers_count,\n",
        "                                        friends_count, verified, time]), \n",
        "                               columns=['twitter_id', 'text', 'hashtage', 'user_id', \n",
        "                                        'retweet_count', 'favorite_count', 'coordinates',\n",
        "                                        'user_name', 'user location', \"followers\",\n",
        "                                        'friends', 'verified', 'time'])"
      ],
      "execution_count": 0,
      "outputs": []
    },
    {
      "metadata": {
        "id": "B6ugo68IT4QO",
        "colab_type": "code",
        "colab": {}
      },
      "cell_type": "code",
      "source": [
        "import csv\n",
        "data_df.to_csv('test_twurl_recent.csv')"
      ],
      "execution_count": 0,
      "outputs": []
    },
    {
      "metadata": {
        "id": "XrT2SWgjT8Xt",
        "colab_type": "code",
        "colab": {
          "base_uri": "https://localhost:8080/",
          "height": 34
        },
        "outputId": "47fc523c-5ee2-43b7-b1c6-2231bed039fc"
      },
      "cell_type": "code",
      "source": [
        ""
      ],
      "execution_count": 6,
      "outputs": [
        {
          "output_type": "execute_result",
          "data": {
            "text/plain": [
              "'Sat Nov 24 20:32:04 +0000 2018'"
            ]
          },
          "metadata": {
            "tags": []
          },
          "execution_count": 6
        }
      ]
    },
    {
      "metadata": {
        "id": "4k8TeDhQj3ko",
        "colab_type": "code",
        "colab": {}
      },
      "cell_type": "code",
      "source": [
        ""
      ],
      "execution_count": 0,
      "outputs": []
    }
  ]
}